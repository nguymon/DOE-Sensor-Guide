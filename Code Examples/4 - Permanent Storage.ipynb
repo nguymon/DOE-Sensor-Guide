{
 "cells": [
  {
   "cell_type": "markdown",
   "id": "5718b048",
   "metadata": {},
   "source": [
    "___\n",
    "\n",
    "<a> <img src='DataWorkflow_LowRes.png' width=\"600\"/></a>\n",
    "___\n",
    "# Data Workflow Crash Course\n",
    "\n",
    "Please note, this is not meant to be a comprehensive overview of Python or programming or recomended data workflows. It is simply to give some examples of what your process may resemble.\n",
    "\n",
    "**This notebook is just a potential reference, any and all of the example can be altered or a different approach taken altogether.**\n",
    "____"
   ]
  },
  {
   "cell_type": "markdown",
   "id": "26ec73ca",
   "metadata": {},
   "source": [
    "<div align=\"center\"><b>\n",
    "    <h3>Other Notebooks</h3>\n",
    "    <h4> <a href=\"0%20-%20Data%20Workflow%20Overview.ipynb\">0 - Data Workflow Overview</a></h4>\n",
    "    <h4> <a href=\"1 - Data Acquisition.ipynb\">1 - Data Aquisition</a></h4>\n",
    "    <h4> <a href=\"2 - Processing.ipynb\">2 - Processing</a></h4>\n",
    "    <h4> <a href=\"3 - Analysis.ipynb\">3 - Analysis</a></h4>\n",
    "    <h4> <a href=\"4 - Permanent Storage.ipynb\">4 - Permanent Storage</a></h4>\n",
    "</b><div align=\"center\">"
   ]
  },
  {
   "cell_type": "markdown",
   "id": "2242f773",
   "metadata": {},
   "source": [
    "## Permanent Storage\n",
    "I won't elaborate too much on this topic. Here are some general tips from an article called [Ten Simple Rules for Digital Data Storage](https://www.ncbi.nlm.nih.gov/pmc/articles/PMC5072699/) by Hart et. al [1].\n",
    "1. Anticipate How Your Data Will Be Used\n",
    "2. Know Your Use Case\n",
    "3. Keep Raw Data Raw\n",
    "4. Store Data in Open Formats\n",
    "5. Data Should Be Structured for Analysis\n",
    "6. Data Should Be Uniquely Identifiable\n",
    "7. Link Relevant Metadata\n",
    "8. Adopt the Proper Privacy Protocols\n",
    "9. Have a Systematic Backup Scheme\n",
    "10. The Location and Method of Data Storage Depend on How Much Data You Have\n",
    "\n",
    "**Basically to simplify I would phrase it as (1) keep raw data where it won't be forgetten, (2) make sure data is acompanied by notes or metadata so it can be used by someone else, and (3) keep all data stored safely after processing.**\n",
    "\n",
    "[1]. Hart, Edmund M et al. “Ten Simple Rules for Digital Data Storage.” PLoS computational biology vol. 12,10 e1005097. 20 Oct. 2016, doi:10.1371/journal.pcbi.1005097\n",
    "[2]. https://www.nature.com/articles/d41586-018-03071-1\n",
    "[3]. https://www.nature.com/articles/d41586-019-01040-w"
   ]
  },
  {
   "cell_type": "markdown",
   "id": "0ff90bf1",
   "metadata": {},
   "source": [
    "[<img src=\"https://imgs.xkcd.com/comics/exa_exabyte.png\">](https://xkcd.com/2283/)"
   ]
  },
  {
   "cell_type": "code",
   "execution_count": null,
   "id": "2dc5e038",
   "metadata": {},
   "outputs": [],
   "source": []
  }
 ],
 "metadata": {
  "kernelspec": {
   "display_name": "Python 3",
   "language": "python",
   "name": "python3"
  },
  "language_info": {
   "codemirror_mode": {
    "name": "ipython",
    "version": 3
   },
   "file_extension": ".py",
   "mimetype": "text/x-python",
   "name": "python",
   "nbconvert_exporter": "python",
   "pygments_lexer": "ipython3",
   "version": "3.8.8"
  }
 },
 "nbformat": 4,
 "nbformat_minor": 5
}
