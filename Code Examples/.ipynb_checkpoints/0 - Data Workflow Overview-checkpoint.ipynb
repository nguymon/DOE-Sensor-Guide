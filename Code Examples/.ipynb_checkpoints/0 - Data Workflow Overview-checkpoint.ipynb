{
 "cells": [
  {
   "cell_type": "markdown",
   "id": "5718b048",
   "metadata": {},
   "source": [
    "___\n",
    "\n",
    "<a> <img src='DataWorkflow_LowRes.png' width=\"600\"/></a>\n",
    "___\n",
    "# Data Workflow Crash Course\n",
    "\n",
    "Please note, this is not meant to be a comprehensive overview of Python or programming or recomended data workflows. It is simply to give some examples of what your process may resemble.\n",
    "\n",
    "**This notebook is just a potential reference, any and all of the example can be altered or a different approach taken altogether.**\n",
    "____"
   ]
  },
  {
   "cell_type": "markdown",
   "id": "7e64f4cc",
   "metadata": {},
   "source": [
    "<div align=\"center\"><b>\n",
    "    <h3>Other Notebooks</h3>\n",
    "    <h4> <a href=\"0%20-%20Data%20Workflow%20Overview.ipynb\">0 - Data Workflow Overview</a></h4>\n",
    "    <h4> <a href=\"1 - Data Acquisition.ipynb\">1 - Data Aquisition</a></h4>\n",
    "    <h4> <a href=\"2 - Processing.ipynb\">2 - Processing</a></h4>\n",
    "    <h4> <a href=\"3 - Analysis.ipynb\">3 - Analysis</a></h4>\n",
    "    <h4> <a href=\"4 - Permanent Storage.ipynb\">4 - Permanent Storage</a></h4>\n",
    "</b><div align=\"center\">"
   ]
  },
  {
   "cell_type": "code",
   "execution_count": null,
   "id": "f70a34f0",
   "metadata": {},
   "outputs": [],
   "source": []
  }
 ],
 "metadata": {
  "kernelspec": {
   "display_name": "Python 3",
   "language": "python",
   "name": "python3"
  },
  "language_info": {
   "codemirror_mode": {
    "name": "ipython",
    "version": 3
   },
   "file_extension": ".py",
   "mimetype": "text/x-python",
   "name": "python",
   "nbconvert_exporter": "python",
   "pygments_lexer": "ipython3",
   "version": "3.8.8"
  }
 },
 "nbformat": 4,
 "nbformat_minor": 5
}
