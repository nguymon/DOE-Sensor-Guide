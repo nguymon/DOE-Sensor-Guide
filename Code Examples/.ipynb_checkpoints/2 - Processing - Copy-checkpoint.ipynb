{
 "cells": [
  {
   "cell_type": "markdown",
   "id": "5718b048",
   "metadata": {},
   "source": [
    "___\n",
    "\n",
    "<a> <img src='DataWorkflow_LowRes.png' width=\"600\"/></a>\n",
    "___\n",
    "# Data Workflow Crash Course\n",
    "\n",
    "Please note, this is not meant to be a comprehensive overview of Python or programming or recomended data workflows. It is simply to give some examples of what your process may resemble.\n",
    "\n",
    "**This notebook is just a potential reference, any and all of the example can be altered or a different approach taken altogether.**\n",
    "____"
   ]
  },
  {
   "cell_type": "markdown",
   "id": "d7205bb7",
   "metadata": {},
   "source": [
    "## Processing\n",
    "This is the stage where the data will be combined and turned into usable formats for analysis. This stage is often combined with the analyis stage. The main goal is to make datasets ready for exploratory data analysis, comparison, and statistical analyis. This is often referred to as data cleanup and may take place in Excel, Python, or other programs."
   ]
  },
  {
   "cell_type": "markdown",
   "id": "4f4b2041",
   "metadata": {},
   "source": [
    "### Import Libraries for Use"
   ]
  },
  {
   "cell_type": "code",
   "execution_count": 1,
   "id": "d37c1a86",
   "metadata": {},
   "outputs": [],
   "source": [
    "import pandas as pd\n",
    "import datetime as dt\n",
    "import numpy as np"
   ]
  },
  {
   "cell_type": "markdown",
   "id": "d66abcca",
   "metadata": {},
   "source": [
    "### Check Data"
   ]
  },
  {
   "cell_type": "code",
   "execution_count": 2,
   "id": "c26f3e5d",
   "metadata": {},
   "outputs": [],
   "source": [
    "# Import dataframes\n",
    "df_weather = pd.read_excel('Example_HourlyWeatherData.xlsx')\n",
    "df_lab = pd.read_excel('Example_MultivariateExperiments.xlsx')\n",
    "df_timeseries = pd.read_excel('Example_TimeSeriesProductivity.xlsx')"
   ]
  },
  {
   "cell_type": "code",
   "execution_count": 3,
   "id": "2ab77817",
   "metadata": {},
   "outputs": [
    {
     "name": "stdout",
     "output_type": "stream",
     "text": [
      "<class 'pandas.core.frame.DataFrame'>\n",
      "RangeIndex: 8760 entries, 0 to 8759\n",
      "Data columns (total 6 columns):\n",
      " #   Column      Non-Null Count  Dtype         \n",
      "---  ------      --------------  -----         \n",
      " 0   Date        8760 non-null   datetime64[ns]\n",
      " 1   Light       8760 non-null   float64       \n",
      " 2   PPF         8760 non-null   int64         \n",
      " 3   Air_Temp    8760 non-null   float64       \n",
      " 4   Rel_Hum     8760 non-null   float64       \n",
      " 5   Water_Temp  8760 non-null   float64       \n",
      "dtypes: datetime64[ns](1), float64(4), int64(1)\n",
      "memory usage: 410.8 KB\n"
     ]
    }
   ],
   "source": [
    "# An example of some useful functions to check data\n",
    "df_weather.info()"
   ]
  },
  {
   "cell_type": "code",
   "execution_count": 4,
   "id": "9e6722a1",
   "metadata": {},
   "outputs": [
    {
     "data": {
      "text/html": [
       "<div>\n",
       "<style scoped>\n",
       "    .dataframe tbody tr th:only-of-type {\n",
       "        vertical-align: middle;\n",
       "    }\n",
       "\n",
       "    .dataframe tbody tr th {\n",
       "        vertical-align: top;\n",
       "    }\n",
       "\n",
       "    .dataframe thead th {\n",
       "        text-align: right;\n",
       "    }\n",
       "</style>\n",
       "<table border=\"1\" class=\"dataframe\">\n",
       "  <thead>\n",
       "    <tr style=\"text-align: right;\">\n",
       "      <th></th>\n",
       "      <th>Date</th>\n",
       "      <th>Light</th>\n",
       "      <th>PPF</th>\n",
       "      <th>Air_Temp</th>\n",
       "      <th>Rel_Hum</th>\n",
       "      <th>Water_Temp</th>\n",
       "    </tr>\n",
       "  </thead>\n",
       "  <tbody>\n",
       "    <tr>\n",
       "      <th>0</th>\n",
       "      <td>2021-01-01 00:00:00</td>\n",
       "      <td>559.485333</td>\n",
       "      <td>0</td>\n",
       "      <td>-2.9</td>\n",
       "      <td>79.798762</td>\n",
       "      <td>12.74412</td>\n",
       "    </tr>\n",
       "    <tr>\n",
       "      <th>1</th>\n",
       "      <td>2021-01-01 01:00:00</td>\n",
       "      <td>559.485333</td>\n",
       "      <td>0</td>\n",
       "      <td>-3.2</td>\n",
       "      <td>80.364525</td>\n",
       "      <td>12.63696</td>\n",
       "    </tr>\n",
       "    <tr>\n",
       "      <th>2</th>\n",
       "      <td>2021-01-01 02:00:00</td>\n",
       "      <td>559.485333</td>\n",
       "      <td>0</td>\n",
       "      <td>-3.2</td>\n",
       "      <td>79.753412</td>\n",
       "      <td>12.63696</td>\n",
       "    </tr>\n",
       "    <tr>\n",
       "      <th>3</th>\n",
       "      <td>2021-01-01 03:00:00</td>\n",
       "      <td>559.485333</td>\n",
       "      <td>0</td>\n",
       "      <td>-3.3</td>\n",
       "      <td>80.349778</td>\n",
       "      <td>12.60124</td>\n",
       "    </tr>\n",
       "    <tr>\n",
       "      <th>4</th>\n",
       "      <td>2021-01-01 04:00:00</td>\n",
       "      <td>559.485333</td>\n",
       "      <td>0</td>\n",
       "      <td>-3.4</td>\n",
       "      <td>80.335015</td>\n",
       "      <td>12.56552</td>\n",
       "    </tr>\n",
       "  </tbody>\n",
       "</table>\n",
       "</div>"
      ],
      "text/plain": [
       "                 Date       Light  PPF  Air_Temp    Rel_Hum  Water_Temp\n",
       "0 2021-01-01 00:00:00  559.485333    0      -2.9  79.798762    12.74412\n",
       "1 2021-01-01 01:00:00  559.485333    0      -3.2  80.364525    12.63696\n",
       "2 2021-01-01 02:00:00  559.485333    0      -3.2  79.753412    12.63696\n",
       "3 2021-01-01 03:00:00  559.485333    0      -3.3  80.349778    12.60124\n",
       "4 2021-01-01 04:00:00  559.485333    0      -3.4  80.335015    12.56552"
      ]
     },
     "execution_count": 4,
     "metadata": {},
     "output_type": "execute_result"
    }
   ],
   "source": [
    "df_weather.head()"
   ]
  },
  {
   "cell_type": "code",
   "execution_count": 5,
   "id": "e593562c",
   "metadata": {},
   "outputs": [
    {
     "data": {
      "text/html": [
       "<div>\n",
       "<style scoped>\n",
       "    .dataframe tbody tr th:only-of-type {\n",
       "        vertical-align: middle;\n",
       "    }\n",
       "\n",
       "    .dataframe tbody tr th {\n",
       "        vertical-align: top;\n",
       "    }\n",
       "\n",
       "    .dataframe thead th {\n",
       "        text-align: right;\n",
       "    }\n",
       "</style>\n",
       "<table border=\"1\" class=\"dataframe\">\n",
       "  <thead>\n",
       "    <tr style=\"text-align: right;\">\n",
       "      <th></th>\n",
       "      <th>Date</th>\n",
       "      <th>Light</th>\n",
       "      <th>PPF</th>\n",
       "      <th>Air_Temp</th>\n",
       "      <th>Rel_Hum</th>\n",
       "      <th>Water_Temp</th>\n",
       "    </tr>\n",
       "  </thead>\n",
       "  <tbody>\n",
       "    <tr>\n",
       "      <th>8755</th>\n",
       "      <td>2021-12-31 19:00:00</td>\n",
       "      <td>558.588664</td>\n",
       "      <td>0</td>\n",
       "      <td>-2.1</td>\n",
       "      <td>77.532570</td>\n",
       "      <td>13.02988</td>\n",
       "    </tr>\n",
       "    <tr>\n",
       "      <th>8756</th>\n",
       "      <td>2021-12-31 20:00:00</td>\n",
       "      <td>558.588664</td>\n",
       "      <td>0</td>\n",
       "      <td>-2.3</td>\n",
       "      <td>78.090880</td>\n",
       "      <td>12.95844</td>\n",
       "    </tr>\n",
       "    <tr>\n",
       "      <th>8757</th>\n",
       "      <td>2021-12-31 21:00:00</td>\n",
       "      <td>558.588664</td>\n",
       "      <td>0</td>\n",
       "      <td>-2.4</td>\n",
       "      <td>78.074717</td>\n",
       "      <td>12.92272</td>\n",
       "    </tr>\n",
       "    <tr>\n",
       "      <th>8758</th>\n",
       "      <td>2021-12-31 22:00:00</td>\n",
       "      <td>558.588664</td>\n",
       "      <td>0</td>\n",
       "      <td>-2.6</td>\n",
       "      <td>78.638823</td>\n",
       "      <td>12.85128</td>\n",
       "    </tr>\n",
       "    <tr>\n",
       "      <th>8759</th>\n",
       "      <td>2021-12-31 23:00:00</td>\n",
       "      <td>558.588664</td>\n",
       "      <td>0</td>\n",
       "      <td>-2.8</td>\n",
       "      <td>79.208449</td>\n",
       "      <td>12.77984</td>\n",
       "    </tr>\n",
       "  </tbody>\n",
       "</table>\n",
       "</div>"
      ],
      "text/plain": [
       "                    Date       Light  PPF  Air_Temp    Rel_Hum  Water_Temp\n",
       "8755 2021-12-31 19:00:00  558.588664    0      -2.1  77.532570    13.02988\n",
       "8756 2021-12-31 20:00:00  558.588664    0      -2.3  78.090880    12.95844\n",
       "8757 2021-12-31 21:00:00  558.588664    0      -2.4  78.074717    12.92272\n",
       "8758 2021-12-31 22:00:00  558.588664    0      -2.6  78.638823    12.85128\n",
       "8759 2021-12-31 23:00:00  558.588664    0      -2.8  79.208449    12.77984"
      ]
     },
     "execution_count": 5,
     "metadata": {},
     "output_type": "execute_result"
    }
   ],
   "source": [
    "df_weather.tail()"
   ]
  },
  {
   "cell_type": "code",
   "execution_count": 7,
   "id": "aad3620e",
   "metadata": {},
   "outputs": [
    {
     "data": {
      "text/plain": [
       "(8760, 6)"
      ]
     },
     "execution_count": 7,
     "metadata": {},
     "output_type": "execute_result"
    }
   ],
   "source": [
    "df_weather.shape"
   ]
  },
  {
   "cell_type": "code",
   "execution_count": 9,
   "id": "e2f33ac5",
   "metadata": {},
   "outputs": [
    {
     "data": {
      "text/plain": [
       "Date          datetime64[ns]\n",
       "Light                float64\n",
       "PPF                    int64\n",
       "Air_Temp             float64\n",
       "Rel_Hum              float64\n",
       "Water_Temp           float64\n",
       "dtype: object"
      ]
     },
     "execution_count": 9,
     "metadata": {},
     "output_type": "execute_result"
    }
   ],
   "source": [
    "df_weather.dtypes"
   ]
  },
  {
   "cell_type": "code",
   "execution_count": null,
   "id": "853c4b8e",
   "metadata": {},
   "outputs": [],
   "source": []
  }
 ],
 "metadata": {
  "kernelspec": {
   "display_name": "Python 3",
   "language": "python",
   "name": "python3"
  },
  "language_info": {
   "codemirror_mode": {
    "name": "ipython",
    "version": 3
   },
   "file_extension": ".py",
   "mimetype": "text/x-python",
   "name": "python",
   "nbconvert_exporter": "python",
   "pygments_lexer": "ipython3",
   "version": "3.8.8"
  }
 },
 "nbformat": 4,
 "nbformat_minor": 5
}
