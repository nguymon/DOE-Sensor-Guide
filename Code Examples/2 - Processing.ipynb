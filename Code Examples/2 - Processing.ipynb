{
 "cells": [
  {
   "cell_type": "markdown",
   "id": "5718b048",
   "metadata": {},
   "source": [
    "___\n",
    "\n",
    "<a> <img src='DataWorkflow_LowRes.png' width=\"600\"/></a>\n",
    "___\n",
    "# Data Workflow Crash Course\n",
    "\n",
    "Please note, this is not meant to be a comprehensive overview of Python or programming or recomended data workflows. It is simply to give some examples of what your process may resemble.\n",
    "\n",
    "**This notebook is just a potential reference, any and all of the example can be altered or a different approach taken altogether.**\n",
    "____"
   ]
  },
  {
   "cell_type": "markdown",
   "id": "19a55b7f",
   "metadata": {},
   "source": [
    "<div align=\"center\"><b>\n",
    "    <h3>Other Notebooks</h3>\n",
    "    <h4> <a href=\"0%20-%20Data%20Workflow%20Overview.ipynb\">0 - Data Workflow Overview</a></h4>\n",
    "    <h4> <a href=\"1 - Data Acquisition.ipynb\">1 - Data Aquisition</a></h4>\n",
    "    <h4> <a href=\"2 - Processing.ipynb\">2 - Processing</a></h4>\n",
    "    <h4> <a href=\"3 - Analysis.ipynb\">3 - Analysis</a></h4>\n",
    "    <h4> <a href=\"4 - Permanent Storage.ipynb\">4 - Permanent Storage</a></h4>\n",
    "</b><div align=\"center\">"
   ]
  },
  {
   "cell_type": "markdown",
   "id": "d7205bb7",
   "metadata": {},
   "source": [
    "## Processing\n",
    "This is the stage where the data will be combined and turned into usable formats for analysis. This stage is often combined with the analyis stage. The main goal is to make datasets ready for exploratory data analysis, comparison, and statistical analyis. This is often referred to as data cleanup and may take place in Excel, Python, or other programs."
   ]
  },
  {
   "cell_type": "markdown",
   "id": "4f4b2041",
   "metadata": {},
   "source": [
    "### Import Libraries for Use"
   ]
  },
  {
   "cell_type": "code",
   "execution_count": 120,
   "id": "d37c1a86",
   "metadata": {},
   "outputs": [],
   "source": [
    "import pandas as pd\n",
    "import datetime as dt\n",
    "import numpy as np"
   ]
  },
  {
   "cell_type": "markdown",
   "id": "d66abcca",
   "metadata": {},
   "source": [
    "### Check Data\n",
    "When checking data it's useful to look at:\n",
    "* Data types\n",
    "* Missing data\n",
    "* Matching dates or labels between datasets\n",
    "* Variable labels\n",
    "* How will it be used"
   ]
  },
  {
   "cell_type": "code",
   "execution_count": 121,
   "id": "c26f3e5d",
   "metadata": {},
   "outputs": [],
   "source": [
    "# Import dataframes\n",
    "df_weather = pd.read_excel('Example_HourlyWeatherData.xlsx')\n",
    "df_lab = pd.read_excel('Example_MultivariateExperiments.xlsx')\n",
    "df_timeseries = pd.read_excel('Example_TimeSeriesProductivity.xlsx')"
   ]
  },
  {
   "cell_type": "code",
   "execution_count": 122,
   "id": "2ab77817",
   "metadata": {},
   "outputs": [
    {
     "name": "stdout",
     "output_type": "stream",
     "text": [
      "<class 'pandas.core.frame.DataFrame'>\n",
      "RangeIndex: 8760 entries, 0 to 8759\n",
      "Data columns (total 6 columns):\n",
      " #   Column      Non-Null Count  Dtype         \n",
      "---  ------      --------------  -----         \n",
      " 0   Date        8760 non-null   datetime64[ns]\n",
      " 1   Light       8760 non-null   float64       \n",
      " 2   PPF         8760 non-null   int64         \n",
      " 3   Air_Temp    8760 non-null   float64       \n",
      " 4   Rel_Hum     8760 non-null   float64       \n",
      " 5   Water_Temp  8760 non-null   float64       \n",
      "dtypes: datetime64[ns](1), float64(4), int64(1)\n",
      "memory usage: 410.8 KB\n"
     ]
    }
   ],
   "source": [
    "# An example of some useful functions to check data\n",
    "df_weather.info()"
   ]
  },
  {
   "cell_type": "code",
   "execution_count": 123,
   "id": "9e6722a1",
   "metadata": {},
   "outputs": [
    {
     "data": {
      "text/html": [
       "<div>\n",
       "<style scoped>\n",
       "    .dataframe tbody tr th:only-of-type {\n",
       "        vertical-align: middle;\n",
       "    }\n",
       "\n",
       "    .dataframe tbody tr th {\n",
       "        vertical-align: top;\n",
       "    }\n",
       "\n",
       "    .dataframe thead th {\n",
       "        text-align: right;\n",
       "    }\n",
       "</style>\n",
       "<table border=\"1\" class=\"dataframe\">\n",
       "  <thead>\n",
       "    <tr style=\"text-align: right;\">\n",
       "      <th></th>\n",
       "      <th>Date</th>\n",
       "      <th>Light</th>\n",
       "      <th>PPF</th>\n",
       "      <th>Air_Temp</th>\n",
       "      <th>Rel_Hum</th>\n",
       "      <th>Water_Temp</th>\n",
       "    </tr>\n",
       "  </thead>\n",
       "  <tbody>\n",
       "    <tr>\n",
       "      <th>0</th>\n",
       "      <td>2021-01-01 00:00:00</td>\n",
       "      <td>559.485333</td>\n",
       "      <td>0</td>\n",
       "      <td>-2.9</td>\n",
       "      <td>79.798762</td>\n",
       "      <td>12.74412</td>\n",
       "    </tr>\n",
       "    <tr>\n",
       "      <th>1</th>\n",
       "      <td>2021-01-01 01:00:00</td>\n",
       "      <td>559.485333</td>\n",
       "      <td>0</td>\n",
       "      <td>-3.2</td>\n",
       "      <td>80.364525</td>\n",
       "      <td>12.63696</td>\n",
       "    </tr>\n",
       "    <tr>\n",
       "      <th>2</th>\n",
       "      <td>2021-01-01 02:00:00</td>\n",
       "      <td>559.485333</td>\n",
       "      <td>0</td>\n",
       "      <td>-3.2</td>\n",
       "      <td>79.753412</td>\n",
       "      <td>12.63696</td>\n",
       "    </tr>\n",
       "    <tr>\n",
       "      <th>3</th>\n",
       "      <td>2021-01-01 03:00:00</td>\n",
       "      <td>559.485333</td>\n",
       "      <td>0</td>\n",
       "      <td>-3.3</td>\n",
       "      <td>80.349778</td>\n",
       "      <td>12.60124</td>\n",
       "    </tr>\n",
       "    <tr>\n",
       "      <th>4</th>\n",
       "      <td>2021-01-01 04:00:00</td>\n",
       "      <td>559.485333</td>\n",
       "      <td>0</td>\n",
       "      <td>-3.4</td>\n",
       "      <td>80.335015</td>\n",
       "      <td>12.56552</td>\n",
       "    </tr>\n",
       "  </tbody>\n",
       "</table>\n",
       "</div>"
      ],
      "text/plain": [
       "                 Date       Light  PPF  Air_Temp    Rel_Hum  Water_Temp\n",
       "0 2021-01-01 00:00:00  559.485333    0      -2.9  79.798762    12.74412\n",
       "1 2021-01-01 01:00:00  559.485333    0      -3.2  80.364525    12.63696\n",
       "2 2021-01-01 02:00:00  559.485333    0      -3.2  79.753412    12.63696\n",
       "3 2021-01-01 03:00:00  559.485333    0      -3.3  80.349778    12.60124\n",
       "4 2021-01-01 04:00:00  559.485333    0      -3.4  80.335015    12.56552"
      ]
     },
     "execution_count": 123,
     "metadata": {},
     "output_type": "execute_result"
    }
   ],
   "source": [
    "df_weather.head()"
   ]
  },
  {
   "cell_type": "code",
   "execution_count": 124,
   "id": "e593562c",
   "metadata": {},
   "outputs": [
    {
     "data": {
      "text/html": [
       "<div>\n",
       "<style scoped>\n",
       "    .dataframe tbody tr th:only-of-type {\n",
       "        vertical-align: middle;\n",
       "    }\n",
       "\n",
       "    .dataframe tbody tr th {\n",
       "        vertical-align: top;\n",
       "    }\n",
       "\n",
       "    .dataframe thead th {\n",
       "        text-align: right;\n",
       "    }\n",
       "</style>\n",
       "<table border=\"1\" class=\"dataframe\">\n",
       "  <thead>\n",
       "    <tr style=\"text-align: right;\">\n",
       "      <th></th>\n",
       "      <th>Date</th>\n",
       "      <th>Light</th>\n",
       "      <th>PPF</th>\n",
       "      <th>Air_Temp</th>\n",
       "      <th>Rel_Hum</th>\n",
       "      <th>Water_Temp</th>\n",
       "    </tr>\n",
       "  </thead>\n",
       "  <tbody>\n",
       "    <tr>\n",
       "      <th>8755</th>\n",
       "      <td>2021-12-31 19:00:00</td>\n",
       "      <td>558.588664</td>\n",
       "      <td>0</td>\n",
       "      <td>-2.1</td>\n",
       "      <td>77.532570</td>\n",
       "      <td>13.02988</td>\n",
       "    </tr>\n",
       "    <tr>\n",
       "      <th>8756</th>\n",
       "      <td>2021-12-31 20:00:00</td>\n",
       "      <td>558.588664</td>\n",
       "      <td>0</td>\n",
       "      <td>-2.3</td>\n",
       "      <td>78.090880</td>\n",
       "      <td>12.95844</td>\n",
       "    </tr>\n",
       "    <tr>\n",
       "      <th>8757</th>\n",
       "      <td>2021-12-31 21:00:00</td>\n",
       "      <td>558.588664</td>\n",
       "      <td>0</td>\n",
       "      <td>-2.4</td>\n",
       "      <td>78.074717</td>\n",
       "      <td>12.92272</td>\n",
       "    </tr>\n",
       "    <tr>\n",
       "      <th>8758</th>\n",
       "      <td>2021-12-31 22:00:00</td>\n",
       "      <td>558.588664</td>\n",
       "      <td>0</td>\n",
       "      <td>-2.6</td>\n",
       "      <td>78.638823</td>\n",
       "      <td>12.85128</td>\n",
       "    </tr>\n",
       "    <tr>\n",
       "      <th>8759</th>\n",
       "      <td>2021-12-31 23:00:00</td>\n",
       "      <td>558.588664</td>\n",
       "      <td>0</td>\n",
       "      <td>-2.8</td>\n",
       "      <td>79.208449</td>\n",
       "      <td>12.77984</td>\n",
       "    </tr>\n",
       "  </tbody>\n",
       "</table>\n",
       "</div>"
      ],
      "text/plain": [
       "                    Date       Light  PPF  Air_Temp    Rel_Hum  Water_Temp\n",
       "8755 2021-12-31 19:00:00  558.588664    0      -2.1  77.532570    13.02988\n",
       "8756 2021-12-31 20:00:00  558.588664    0      -2.3  78.090880    12.95844\n",
       "8757 2021-12-31 21:00:00  558.588664    0      -2.4  78.074717    12.92272\n",
       "8758 2021-12-31 22:00:00  558.588664    0      -2.6  78.638823    12.85128\n",
       "8759 2021-12-31 23:00:00  558.588664    0      -2.8  79.208449    12.77984"
      ]
     },
     "execution_count": 124,
     "metadata": {},
     "output_type": "execute_result"
    }
   ],
   "source": [
    "df_weather.tail()"
   ]
  },
  {
   "cell_type": "code",
   "execution_count": 125,
   "id": "aad3620e",
   "metadata": {},
   "outputs": [
    {
     "data": {
      "text/plain": [
       "(8760, 6)"
      ]
     },
     "execution_count": 125,
     "metadata": {},
     "output_type": "execute_result"
    }
   ],
   "source": [
    "df_weather.shape"
   ]
  },
  {
   "cell_type": "code",
   "execution_count": 126,
   "id": "e2f33ac5",
   "metadata": {},
   "outputs": [
    {
     "data": {
      "text/plain": [
       "Date          datetime64[ns]\n",
       "Light                float64\n",
       "PPF                    int64\n",
       "Air_Temp             float64\n",
       "Rel_Hum              float64\n",
       "Water_Temp           float64\n",
       "dtype: object"
      ]
     },
     "execution_count": 126,
     "metadata": {},
     "output_type": "execute_result"
    }
   ],
   "source": [
    "df_weather.dtypes"
   ]
  },
  {
   "cell_type": "code",
   "execution_count": 127,
   "id": "409a64bc",
   "metadata": {},
   "outputs": [
    {
     "data": {
      "text/html": [
       "<div>\n",
       "<style scoped>\n",
       "    .dataframe tbody tr th:only-of-type {\n",
       "        vertical-align: middle;\n",
       "    }\n",
       "\n",
       "    .dataframe tbody tr th {\n",
       "        vertical-align: top;\n",
       "    }\n",
       "\n",
       "    .dataframe thead th {\n",
       "        text-align: right;\n",
       "    }\n",
       "</style>\n",
       "<table border=\"1\" class=\"dataframe\">\n",
       "  <thead>\n",
       "    <tr style=\"text-align: right;\">\n",
       "      <th></th>\n",
       "      <th>Light</th>\n",
       "      <th>PPF</th>\n",
       "      <th>Air_Temp</th>\n",
       "      <th>Rel_Hum</th>\n",
       "      <th>Water_Temp</th>\n",
       "    </tr>\n",
       "  </thead>\n",
       "  <tbody>\n",
       "    <tr>\n",
       "      <th>count</th>\n",
       "      <td>8760.000000</td>\n",
       "      <td>8760.000000</td>\n",
       "      <td>8760.000000</td>\n",
       "      <td>8760.000000</td>\n",
       "      <td>8760.000000</td>\n",
       "    </tr>\n",
       "    <tr>\n",
       "      <th>mean</th>\n",
       "      <td>732.392638</td>\n",
       "      <td>494.420548</td>\n",
       "      <td>11.643231</td>\n",
       "      <td>52.881731</td>\n",
       "      <td>17.938962</td>\n",
       "    </tr>\n",
       "    <tr>\n",
       "      <th>std</th>\n",
       "      <td>120.351823</td>\n",
       "      <td>650.885631</td>\n",
       "      <td>10.186807</td>\n",
       "      <td>17.831317</td>\n",
       "      <td>3.638728</td>\n",
       "    </tr>\n",
       "    <tr>\n",
       "      <th>min</th>\n",
       "      <td>555.130035</td>\n",
       "      <td>0.000000</td>\n",
       "      <td>-4.000000</td>\n",
       "      <td>18.500581</td>\n",
       "      <td>12.351200</td>\n",
       "    </tr>\n",
       "    <tr>\n",
       "      <th>25%</th>\n",
       "      <td>615.828655</td>\n",
       "      <td>0.000000</td>\n",
       "      <td>2.600000</td>\n",
       "      <td>38.524728</td>\n",
       "      <td>14.708720</td>\n",
       "    </tr>\n",
       "    <tr>\n",
       "      <th>50%</th>\n",
       "      <td>734.177581</td>\n",
       "      <td>0.000000</td>\n",
       "      <td>10.800000</td>\n",
       "      <td>53.543668</td>\n",
       "      <td>17.637760</td>\n",
       "    </tr>\n",
       "    <tr>\n",
       "      <th>75%</th>\n",
       "      <td>849.549548</td>\n",
       "      <td>971.250000</td>\n",
       "      <td>20.025000</td>\n",
       "      <td>67.999906</td>\n",
       "      <td>20.932930</td>\n",
       "    </tr>\n",
       "    <tr>\n",
       "      <th>max</th>\n",
       "      <td>905.515841</td>\n",
       "      <td>2049.000000</td>\n",
       "      <td>32.800000</td>\n",
       "      <td>81.599258</td>\n",
       "      <td>25.496160</td>\n",
       "    </tr>\n",
       "  </tbody>\n",
       "</table>\n",
       "</div>"
      ],
      "text/plain": [
       "             Light          PPF     Air_Temp      Rel_Hum   Water_Temp\n",
       "count  8760.000000  8760.000000  8760.000000  8760.000000  8760.000000\n",
       "mean    732.392638   494.420548    11.643231    52.881731    17.938962\n",
       "std     120.351823   650.885631    10.186807    17.831317     3.638728\n",
       "min     555.130035     0.000000    -4.000000    18.500581    12.351200\n",
       "25%     615.828655     0.000000     2.600000    38.524728    14.708720\n",
       "50%     734.177581     0.000000    10.800000    53.543668    17.637760\n",
       "75%     849.549548   971.250000    20.025000    67.999906    20.932930\n",
       "max     905.515841  2049.000000    32.800000    81.599258    25.496160"
      ]
     },
     "execution_count": 127,
     "metadata": {},
     "output_type": "execute_result"
    }
   ],
   "source": [
    "df_weather.describe()"
   ]
  },
  {
   "cell_type": "markdown",
   "id": "15035737",
   "metadata": {},
   "source": [
    "### Combining Datasets\n",
    "In the time-series example the weather data and biomass productivity data need to be combined for analysis. With these it is also important to determine how it will be analyzed. Some potential methods are:\n",
    "* Average weather values for the date ranges of each producitivity measurement.\n",
    "* Average daily values for weather and fill in the information for productivity for each time period. This could be useful if planning on time-series decomposition later.\n",
    "\n",
    "There are surely many more methods but I'll focus on these two as examples."
   ]
  },
  {
   "cell_type": "markdown",
   "id": "90c19baa",
   "metadata": {},
   "source": [
    "#### Averaging Weather Data per Productivity Time Range\n",
    "The goal is essentially to group data by dates when biomass measurements were made."
   ]
  },
  {
   "cell_type": "markdown",
   "id": "1aec7ee9",
   "metadata": {},
   "source": [
    "First we need to fill PAR values of 0 with NaN so they are not included in averages. Because we already have light duration as an input we want the PAR averages to reflect average intensity during the day.\n",
    "\n",
    "You could also integrate PAR values and get a total of PAR during the day in (µmol m<sup>-2</sup>)"
   ]
  },
  {
   "cell_type": "code",
   "execution_count": 128,
   "id": "5b876d2e",
   "metadata": {},
   "outputs": [],
   "source": [
    "# Copy dataframe so original data is not changed\n",
    "df_weather_proc = df_weather\n",
    "\n",
    "# Select column\n",
    "cols = [\"PPF\"]\n",
    "\n",
    "# Replace 0 with NaN\n",
    "df_weather_proc[cols] = df_weather_proc[cols].replace({'0':np.nan, 0:np.nan})\n",
    "\n",
    "# Groupby daily averages based on hourly data.\n",
    "df_weather_proc = df_weather_proc.set_index('Date').groupby(pd.Grouper(freq='D')).mean()"
   ]
  },
  {
   "cell_type": "code",
   "execution_count": 129,
   "id": "e95e9f13",
   "metadata": {},
   "outputs": [],
   "source": [
    "# Create datetime index\n",
    "df_timeseries_proc = df_timeseries.set_index('Date')"
   ]
  },
  {
   "cell_type": "code",
   "execution_count": 130,
   "id": "20329d6c",
   "metadata": {},
   "outputs": [],
   "source": [
    "# Select first date of weather data for comparison\n",
    "start_date = '2021-01-01' #  00:00:00\n",
    "end_date = start_date\n",
    "\n",
    "# Create dataframe for combining values\n",
    "df_grouped_timeseries = pd.DataFrame(columns = ['Date', 'Light', 'PPF', 'Air_Temp', 'Water_Temp', 'Productivity'])\n",
    "\n",
    "# Loop through selecting and averaging date ranges\n",
    "for ind in df_timeseries_proc.index:\n",
    "    start_date = end_date\n",
    "    end_date = str(ind)\n",
    "    df = df_weather_proc.loc[start_date:end_date]\n",
    "    df = df.mean(axis='index')\n",
    "    df_grouped_timeseries = df_grouped_timeseries.append({\n",
    "        'Date' : end_date, 'Light' : df['Light'],\n",
    "        'PPF' : df['PPF'], 'Air_Temp' : df['Air_Temp'],\n",
    "        'Water_Temp' : df['Water_Temp'], 'Productivity' : df_timeseries_proc['Productivity'][ind]}, \n",
    "                ignore_index = True)\n",
    "\n",
    "# Create datetime index\n",
    "df_grouped_timeseries = df_grouped_timeseries.set_index('Date')\n",
    "df_grouped_timeseries.index = pd.to_datetime(df_grouped_timeseries.index)\n",
    "\n",
    "# Export data to Excel for Analysis stage\n",
    "df_grouped_timeseries.to_excel(\"Exports/Grouped Timeseries.xlsx\")"
   ]
  },
  {
   "cell_type": "markdown",
   "id": "d04bdee9",
   "metadata": {},
   "source": [
    "#### Fill in Values for Productivity Across Ranges\n",
    "Instead of grouping this approach will use measured productivity to approximate productivity for each day before it."
   ]
  },
  {
   "cell_type": "code",
   "execution_count": 131,
   "id": "0ad2f7a8",
   "metadata": {},
   "outputs": [],
   "source": [
    "# Copy dataframe so original data is not changed\n",
    "df_weather_proc = df_weather\n",
    "\n",
    "# Select column\n",
    "cols = [\"PPF\"]\n",
    "\n",
    "# Replace 0 with NaN\n",
    "df_weather_proc[cols] = df_weather_proc[cols].replace({'0':np.nan, 0:np.nan})\n",
    "\n",
    "# Groupby daily averages based on hourly data.\n",
    "df_weather_proc = df_weather_proc.set_index('Date').groupby(pd.Grouper(freq='D')).mean()"
   ]
  },
  {
   "cell_type": "code",
   "execution_count": 132,
   "id": "a6cc3373",
   "metadata": {},
   "outputs": [],
   "source": [
    "# Create datetime index\n",
    "df_timeseries_proc = df_timeseries.set_index('Date')"
   ]
  },
  {
   "cell_type": "code",
   "execution_count": 133,
   "id": "c3283966",
   "metadata": {},
   "outputs": [],
   "source": [
    "# Merge weather and productivity dataframes based on matching dateime index\n",
    "df_daily_timeseries = pd.merge(df_weather_proc, df_timeseries_proc, how='left', left_index=True, right_index=True)\n",
    "\n",
    "# First use backfill to fill ranges based on end value the ffill for any missed values\n",
    "df_daily_timeseries = df_daily_timeseries.fillna(method='backfill')\n",
    "df_daily_timeseries = df_daily_timeseries.fillna(method='ffill')\n",
    "\n",
    "# Export data to Excel for Analysis stage\n",
    "df_daily_timeseries.to_excel(\"Exports/Daily Timeseries.xlsx\")"
   ]
  },
  {
   "cell_type": "markdown",
   "id": "c2ec3822",
   "metadata": {},
   "source": [
    "[<img src=\"https://imgs.xkcd.com/comics/flawed_data.png\">](https://xkcd.com/2494/)"
   ]
  },
  {
   "cell_type": "code",
   "execution_count": null,
   "id": "1ee67386",
   "metadata": {},
   "outputs": [],
   "source": []
  }
 ],
 "metadata": {
  "kernelspec": {
   "display_name": "Python 3",
   "language": "python",
   "name": "python3"
  },
  "language_info": {
   "codemirror_mode": {
    "name": "ipython",
    "version": 3
   },
   "file_extension": ".py",
   "mimetype": "text/x-python",
   "name": "python",
   "nbconvert_exporter": "python",
   "pygments_lexer": "ipython3",
   "version": "3.8.8"
  }
 },
 "nbformat": 4,
 "nbformat_minor": 5
}
